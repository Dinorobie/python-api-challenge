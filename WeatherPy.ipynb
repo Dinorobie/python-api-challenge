{
 "cells": [
  {
   "cell_type": "code",
   "execution_count": 1,
   "metadata": {},
   "outputs": [],
   "source": [
    "# Dependencies and Setup\n",
    "import matplotlib.pyplot as plt\n",
    "import pandas as pd\n",
    "import numpy as np\n",
    "import requests\n",
    "import time\n",
    "from scipy.stats import linregress\n",
    "\n",
    "# Import API key\n",
    "from api_keys import weather_api_key\n",
    "\n",
    "# Incorporated citipy to determine city based on latitude and longitude\n",
    "from citipy import citipy\n",
    "\n",
    "# Output File (CSV)\n",
    "output_data_file = \"output_data/cities.csv\"\n",
    "\n",
    "# Range of latitudes and longitudes\n",
    "lat_range = (-90, 90)\n",
    "lng_range = (-180, 180)"
   ]
  },
  {
   "cell_type": "code",
   "execution_count": 2,
   "metadata": {},
   "outputs": [
    {
     "data": {
      "text/plain": [
       "624"
      ]
     },
     "execution_count": 2,
     "metadata": {},
     "output_type": "execute_result"
    }
   ],
   "source": [
    " # List for holding lat_lngs and cities\n",
    "lat_lngs = []\n",
    "cities = []\n",
    "\n",
    "# Create a set of random lat and lng combinations\n",
    "lats = np.random.uniform(lat_range[0], lat_range[1], size=1500)\n",
    "lngs = np.random.uniform(lng_range[0], lng_range[1], size=1500)\n",
    "lat_lngs = zip(lats, lngs)\n",
    "\n",
    "# Identify nearest city for each lat, lng combination\n",
    "for lat_lng in lat_lngs:\n",
    "    city = citipy.nearest_city(lat_lng[0], lat_lng[1]).city_name\n",
    "    \n",
    "    # If the city is unique, then add it to a our cities list\n",
    "    if city not in cities:\n",
    "        cities.append(city)\n",
    "\n",
    "# Print the city count to confirm sufficient count\n",
    "len(cities)"
   ]
  },
  {
   "cell_type": "code",
   "execution_count": 3,
   "metadata": {},
   "outputs": [
    {
     "name": "stdout",
     "output_type": "stream",
     "text": [
      "Processing record 1|rikitea\n",
      "Processing record 2|dalhousie\n",
      "Processing record 3|punta arenas\n",
      "Processing record 4|mount gambier\n",
      "Processing record 5|port alfred\n",
      "Processing record 6|alamosa\n",
      "Processing record 7|turangi\n",
      "Processing record 8|kapaa\n",
      "Processing record 9|chandbali\n",
      "Processing record 10|isla vista\n",
      "Processing record 11|mouila\n",
      "City not found. Skipping...\n",
      "Processing record 12|cape town\n",
      "Processing record 13|katsuura\n",
      "Processing record 14|khatanga\n",
      "Processing record 15|busselton\n",
      "Processing record 16|thompson\n",
      "Processing record 17|sabha\n",
      "Processing record 18|upernavik\n",
      "City not found. Skipping...\n",
      "Processing record 19|new norfolk\n",
      "Processing record 20|saskylakh\n",
      "Processing record 21|tuktoyaktuk\n",
      "Processing record 22|pangai\n",
      "Processing record 23|puerto ayora\n",
      "Processing record 24|castro\n",
      "City not found. Skipping...\n",
      "Processing record 25|saldanha\n",
      "Processing record 26|chara\n",
      "Processing record 27|mar del plata\n",
      "Processing record 28|kavieng\n",
      "Processing record 29|provideniya\n",
      "Processing record 30|newport\n",
      "Processing record 31|qaanaaq\n",
      "Processing record 32|valdivia\n",
      "Processing record 33|kiunga\n",
      "Processing record 34|nokaneng\n",
      "Processing record 35|kokino\n",
      "Processing record 36|shenjiamen\n",
      "Processing record 37|ostrovnoy\n",
      "Processing record 38|mount isa\n",
      "Processing record 39|ushuaia\n",
      "Processing record 40|charters towers\n",
      "Processing record 41|alice springs\n",
      "Processing record 42|barrow\n",
      "Processing record 43|albany\n",
      "Processing record 44|atuona\n",
      "Processing record 45|dikson\n",
      "Processing record 46|bardejov\n",
      "Processing record 47|longyearbyen\n",
      "Processing record 48|kahului\n",
      "Processing record 49|la ronge\n",
      "Processing record 50|hamilton\n",
      "City not found. Skipping...\n",
      "Processing record 51|hobart\n",
      "Processing record 52|prince rupert\n",
      "Processing record 53|hermanus\n",
      "City not found. Skipping...\n",
      "City not found. Skipping...\n",
      "Processing record 54|kruisfontein\n",
      "Processing record 55|touros\n",
      "Processing record 56|klaksvik\n",
      "Processing record 57|jamestown\n",
      "Processing record 58|nelson bay\n",
      "Processing record 59|grand gaube\n",
      "Processing record 60|mataura\n",
      "Processing record 61|northam\n",
      "Processing record 62|norman wells\n",
      "Processing record 63|butaritari\n",
      "Processing record 64|yellowknife\n",
      "City not found. Skipping...\n",
      "Processing record 65|avarua\n",
      "Processing record 66|asau\n",
      "Processing record 67|bayir\n",
      "City not found. Skipping...\n",
      "Processing record 68|cabo san lucas\n",
      "Processing record 69|geraldton\n",
      "Processing record 70|lubartow\n",
      "Processing record 71|sarangarh\n",
      "Processing record 72|lorengau\n",
      "Processing record 73|bluff\n",
      "Processing record 74|beyneu\n",
      "Processing record 75|mahebourg\n",
      "Processing record 76|yar-sale\n",
      "Processing record 77|bafoulabe\n",
      "Processing record 78|chuy\n",
      "Processing record 79|nome\n",
      "Processing record 80|at-bashi\n",
      "Processing record 81|saint anthony\n",
      "Processing record 82|payo\n",
      "Processing record 83|leningradskiy\n",
      "City not found. Skipping...\n",
      "Processing record 84|berdigestyakh\n",
      "Processing record 85|stornoway\n",
      "Processing record 86|aktash\n",
      "Processing record 87|pacific grove\n",
      "Processing record 88|bredasdorp\n",
      "Processing record 89|haines junction\n",
      "Processing record 90|te anau\n",
      "Processing record 91|amapa\n",
      "Processing record 92|lagoa\n",
      "Processing record 93|vaini\n",
      "Processing record 94|codrington\n",
      "City not found. Skipping...\n",
      "City not found. Skipping...\n",
      "City not found. Skipping...\n",
      "Processing record 95|torbay\n",
      "Processing record 96|bethel\n",
      "Processing record 97|axim\n",
      "Processing record 98|east london\n",
      "City not found. Skipping...\n",
      "Processing record 99|plettenberg bay\n",
      "Processing record 100|arlit\n",
      "Processing record 101|keuruu\n",
      "Processing record 102|bereda\n",
      "Processing record 103|lavrentiya\n",
      "Processing record 104|mahajanga\n",
      "Processing record 105|humaita\n",
      "Processing record 106|sumbe\n",
      "Processing record 107|costa rica\n",
      "Processing record 108|gitarama\n",
      "Processing record 109|nikolskoye\n",
      "Processing record 110|namatanai\n",
      "Processing record 111|ponta do sol\n",
      "Processing record 112|cidreira\n",
      "Processing record 113|amuntai\n",
      "Processing record 114|aneho\n",
      "Processing record 115|carutapera\n",
      "Processing record 116|port augusta\n",
      "Processing record 117|lucapa\n",
      "Processing record 118|madang\n",
      "Processing record 119|whitianga\n",
      "Processing record 120|kumluca\n",
      "Processing record 121|san patricio\n",
      "Processing record 122|los llanos de aridane\n",
      "Processing record 123|hilo\n",
      "Processing record 124|naryan-mar\n",
      "Processing record 125|hithadhoo\n",
      "Processing record 126|souillac\n",
      "Processing record 127|tasiilaq\n",
      "City not found. Skipping...\n",
      "Processing record 128|poum\n",
      "Processing record 129|narsaq\n",
      "Processing record 130|maraa\n",
      "Processing record 131|ilheus\n",
      "City not found. Skipping...\n",
      "Processing record 132|cabedelo\n",
      "Processing record 133|arraial do cabo\n",
      "Processing record 134|vestmannaeyjar\n",
      "Processing record 135|college\n",
      "Processing record 136|broome\n",
      "Processing record 137|mitsamiouli\n",
      "Processing record 138|williams lake\n",
      "Processing record 139|xining\n",
      "Processing record 140|krasnoselkup\n",
      "Processing record 141|mehamn\n",
      "City not found. Skipping...\n",
      "Processing record 142|bud\n",
      "Processing record 143|rio gallegos\n",
      "Processing record 144|saint-philippe\n",
      "Processing record 145|semey\n",
      "Processing record 146|disna\n",
      "Processing record 147|hami\n",
      "Processing record 148|kodiak\n",
      "Processing record 149|kandrian\n",
      "City not found. Skipping...\n",
      "Processing record 150|talnakh\n",
      "Processing record 151|olafsvik\n",
      "City not found. Skipping...\n",
      "City not found. Skipping...\n",
      "Processing record 152|sitka\n",
      "Processing record 153|airai\n",
      "Processing record 154|yerbogachen\n",
      "Processing record 155|bengkulu\n",
      "Processing record 156|severo-kurilsk\n",
      "Processing record 157|carnarvon\n",
      "Processing record 158|baghdad\n",
      "Processing record 159|portland\n",
      "Processing record 160|dunedin\n",
      "Processing record 161|turukhansk\n",
      "Processing record 162|mwene-ditu\n",
      "Processing record 163|tezu\n",
      "Processing record 164|dali\n",
      "City not found. Skipping...\n",
      "Processing record 165|bilma\n",
      "Processing record 166|lasa\n",
      "Processing record 167|ballina\n",
      "Processing record 168|sinnamary\n",
      "Processing record 169|san carlos de bariloche\n",
      "Processing record 170|sao joao da barra\n",
      "Processing record 171|mandla\n",
      "Processing record 172|balakhta\n",
      "Processing record 173|taltal\n",
      "Processing record 174|sola\n",
      "Processing record 175|ampanihy\n",
      "Processing record 176|hofn\n",
      "Processing record 177|sao filipe\n",
      "City not found. Skipping...\n",
      "Processing record 178|saint-leu\n",
      "Processing record 179|batsfjord\n",
      "Processing record 180|orodara\n",
      "Processing record 181|nago\n",
      "Processing record 182|batagay-alyta\n",
      "Processing record 183|kumta\n",
      "Processing record 184|vostok\n",
      "Processing record 185|kristiinankaupunki\n",
      "Processing record 186|nioro\n",
      "Processing record 187|kampene\n",
      "Processing record 188|bonthe\n",
      "Processing record 189|ilulissat\n",
      "Processing record 190|georgetown\n",
      "Processing record 191|abu dhabi\n",
      "City not found. Skipping...\n",
      "Processing record 192|zhanaozen\n",
      "Processing record 193|port macquarie\n",
      "Processing record 194|sri aman\n",
      "Processing record 195|nanortalik\n",
      "Processing record 196|chokurdakh\n",
      "Processing record 197|comodoro rivadavia\n",
      "Processing record 198|moskovskiy\n",
      "Processing record 199|civitanova marche\n",
      "Processing record 200|nizwa\n",
      "Processing record 201|lebu\n",
      "Processing record 202|bundaberg\n",
      "Processing record 203|tam ky\n",
      "Processing record 204|pevek\n",
      "Processing record 205|mutata\n",
      "City not found. Skipping...\n",
      "Processing record 206|omboue\n",
      "Processing record 207|planaltina\n",
      "Processing record 208|kommunisticheskiy\n",
      "Processing record 209|nyrob\n",
      "Processing record 210|kavaratti\n",
      "Processing record 211|ryotsu\n",
      "Processing record 212|adjumani\n",
      "City not found. Skipping...\n",
      "Processing record 213|nara\n",
      "Processing record 214|kinkala\n",
      "Processing record 215|jinxiang\n",
      "Processing record 216|muros\n",
      "Processing record 217|abomsa\n",
      "Processing record 218|laguna\n",
      "Processing record 219|kirakira\n",
      "Processing record 220|flinders\n",
      "Processing record 221|sao miguel do araguaia\n",
      "Processing record 222|tavricheskoye\n",
      "Processing record 223|dwarka\n",
      "Processing record 224|seoul\n",
      "City not found. Skipping...\n",
      "Processing record 225|mikuni\n",
      "Processing record 226|isangel\n",
      "Processing record 227|mattru\n",
      "Processing record 228|mogadishu\n",
      "Processing record 229|alekseyevsk\n",
      "Processing record 230|namibe\n",
      "Processing record 231|berlevag\n",
      "Processing record 232|nemuro\n",
      "Processing record 233|cockburn town\n",
      "Processing record 234|ancud\n",
      "Processing record 235|kirkwall\n",
      "Processing record 236|almonte\n",
      "Processing record 237|north bend\n",
      "Processing record 238|kloulklubed\n",
      "Processing record 239|tuatapere\n",
      "Processing record 240|gwadar\n",
      "Processing record 241|aranos\n",
      "Processing record 242|lashio\n",
      "Processing record 243|hambantota\n"
     ]
    },
    {
     "name": "stdout",
     "output_type": "stream",
     "text": [
      "Processing record 244|cap malheureux\n",
      "Processing record 245|kuminskiy\n",
      "Processing record 246|goderich\n",
      "City not found. Skipping...\n",
      "Processing record 247|ribeira grande\n",
      "Processing record 248|tolaga bay\n",
      "Processing record 249|hasaki\n",
      "Processing record 250|padang\n",
      "Processing record 251|saint-augustin\n",
      "Processing record 252|chimala\n",
      "Processing record 253|kinablangan\n",
      "City not found. Skipping...\n",
      "Processing record 254|carpinteria\n",
      "Processing record 255|lata\n",
      "Processing record 256|buraydah\n",
      "Processing record 257|port elizabeth\n",
      "Processing record 258|maldonado\n",
      "Processing record 259|ancona\n",
      "Processing record 260|kaeo\n",
      "Processing record 261|kislovodsk\n",
      "Processing record 262|shelopugino\n",
      "Processing record 263|muzhi\n",
      "Processing record 264|lompoc\n",
      "Processing record 265|agaro\n",
      "Processing record 266|aklavik\n",
      "Processing record 267|bilibino\n",
      "Processing record 268|victoria\n",
      "Processing record 269|beloha\n",
      "Processing record 270|chervone\n",
      "Processing record 271|springbok\n",
      "Processing record 272|dinga\n",
      "Processing record 273|lewisville\n",
      "Processing record 274|bangui\n",
      "Processing record 275|changli\n",
      "Processing record 276|port-gentil\n",
      "Processing record 277|kaitangata\n",
      "Processing record 278|sorland\n",
      "Processing record 279|dingle\n",
      "City not found. Skipping...\n",
      "Processing record 280|nijar\n",
      "Processing record 281|turayf\n",
      "Processing record 282|sarankhola\n",
      "Processing record 283|san jose\n",
      "City not found. Skipping...\n",
      "Processing record 284|flin flon\n",
      "Processing record 285|werda\n",
      "Processing record 286|sal rei\n",
      "City not found. Skipping...\n",
      "Processing record 287|diplo\n",
      "Processing record 288|chauk\n",
      "Processing record 289|turka\n",
      "Processing record 290|bayonet point\n",
      "Processing record 291|saint george\n",
      "Processing record 292|cartagena del chaira\n",
      "Processing record 293|olden\n",
      "Processing record 294|miraflores\n",
      "Processing record 295|thai binh\n",
      "Processing record 296|pangnirtung\n",
      "Processing record 297|lovozero\n",
      "Processing record 298|altay\n",
      "Processing record 299|garhshankar\n",
      "Processing record 300|san andres\n",
      "Processing record 301|tura\n",
      "Processing record 302|constitucion\n",
      "Processing record 303|tari\n",
      "Processing record 304|soderhamn\n",
      "Processing record 305|vila franca do campo\n",
      "Processing record 306|sao gabriel da cachoeira\n",
      "Processing record 307|uruzgan\n",
      "City not found. Skipping...\n",
      "Processing record 308|manaia\n",
      "Processing record 309|saint-francois\n",
      "Processing record 310|mareeba\n",
      "Processing record 311|tefe\n",
      "Processing record 312|takoradi\n",
      "Processing record 313|puri\n",
      "City not found. Skipping...\n",
      "Processing record 314|sibu\n",
      "Processing record 315|port lincoln\n",
      "Processing record 316|bubaque\n",
      "Processing record 317|finnsnes\n",
      "Processing record 318|iaciara\n",
      "Processing record 319|khani\n",
      "Processing record 320|ankazoabo\n",
      "Processing record 321|jodhpur\n",
      "Processing record 322|coihaique\n",
      "Processing record 323|vao\n",
      "City not found. Skipping...\n",
      "Processing record 324|havre\n",
      "Processing record 325|lerum\n",
      "Processing record 326|chardara\n",
      "Processing record 327|vila praia de ancora\n",
      "Processing record 328|popondetta\n",
      "Processing record 329|vanimo\n",
      "Processing record 330|husavik\n",
      "Processing record 331|coos bay\n",
      "Processing record 332|tucuman\n",
      "City not found. Skipping...\n",
      "Processing record 333|shingu\n",
      "Processing record 334|kaduna\n",
      "Processing record 335|niono\n",
      "Processing record 336|gravdal\n",
      "City not found. Skipping...\n",
      "City not found. Skipping...\n",
      "Processing record 337|vangaindrano\n",
      "Processing record 338|san quintin\n",
      "Processing record 339|banjar\n",
      "Processing record 340|anito\n",
      "Processing record 341|faanui\n",
      "Processing record 342|yatou\n",
      "Processing record 343|jiangyou\n",
      "Processing record 344|kieta\n",
      "Processing record 345|coari\n",
      "Processing record 346|lysyye gory\n",
      "Processing record 347|touba\n",
      "Processing record 348|ust-uda\n",
      "Processing record 349|nkowakowa\n",
      "Processing record 350|esperance\n",
      "Processing record 351|basco\n",
      "Processing record 352|vagur\n",
      "Processing record 353|kendari\n",
      "Processing record 354|argentan\n",
      "Processing record 355|tadpatri\n",
      "City not found. Skipping...\n",
      "Processing record 356|guerrero negro\n",
      "Processing record 357|gat\n",
      "City not found. Skipping...\n",
      "Processing record 358|mitu\n",
      "Processing record 359|paamiut\n",
      "Processing record 360|shieli\n",
      "Processing record 361|williamsport\n",
      "Processing record 362|waipawa\n",
      "Processing record 363|bangkalan\n",
      "Processing record 364|richards bay\n",
      "Processing record 365|sept-iles\n",
      "Processing record 366|coquimbo\n",
      "Processing record 367|kovur\n",
      "Processing record 368|svetlyy\n",
      "Processing record 369|qasigiannguit\n",
      "Processing record 370|zdunska wola\n",
      "Processing record 371|saint-georges\n",
      "Processing record 372|lipin bor\n",
      "Processing record 373|damaturu\n",
      "Processing record 374|merrill\n",
      "Processing record 375|faya\n",
      "Processing record 376|bambanglipuro\n",
      "City not found. Skipping...\n",
      "Processing record 377|sovetskiy\n",
      "Processing record 378|sirur\n",
      "Processing record 379|oistins\n",
      "Processing record 380|polyarnyy\n",
      "Processing record 381|la romana\n",
      "Processing record 382|sagaing\n",
      "Processing record 383|havelock\n",
      "Processing record 384|ballitoville\n",
      "Processing record 385|harsin\n",
      "Processing record 386|emba\n",
      "Processing record 387|anloga\n",
      "Processing record 388|salalah\n",
      "Processing record 389|san policarpo\n",
      "Processing record 390|tartagal\n",
      "Processing record 391|ossora\n",
      "Processing record 392|shymkent\n",
      "Processing record 393|sokoni\n",
      "Processing record 394|tarko-sale\n",
      "Processing record 395|taft\n",
      "City not found. Skipping...\n",
      "Processing record 396|vardo\n",
      "City not found. Skipping...\n",
      "Processing record 397|rawson\n",
      "Processing record 398|micheweni\n",
      "Processing record 399|englewood\n",
      "Processing record 400|seltso\n",
      "Processing record 401|san cristobal\n",
      "Processing record 402|aksay\n",
      "Processing record 403|ajaccio\n",
      "Processing record 404|sivas\n",
      "Processing record 405|tautira\n",
      "Processing record 406|komsomolskiy\n",
      "Processing record 407|tibacuy\n",
      "Processing record 408|lodwar\n",
      "Processing record 409|luganville\n",
      "Processing record 410|marsh harbour\n",
      "City not found. Skipping...\n",
      "Processing record 411|gigmoto\n",
      "Processing record 412|fairbanks\n",
      "Processing record 413|betare oya\n",
      "Processing record 414|khipro\n",
      "Processing record 415|zyryanka\n",
      "Processing record 416|yanam\n",
      "Processing record 417|cabra\n",
      "Processing record 418|belebey\n",
      "Processing record 419|rafaela\n",
      "City not found. Skipping...\n",
      "Processing record 420|kangavar\n",
      "Processing record 421|acarau\n",
      "Processing record 422|pangkalanbuun\n",
      "Processing record 423|grand-santi\n",
      "Processing record 424|matadi\n",
      "City not found. Skipping...\n",
      "Processing record 425|karakol\n",
      "Processing record 426|taiyuan\n",
      "Processing record 427|hammerfest\n",
      "Processing record 428|wenling\n",
      "Processing record 429|vallenar\n",
      "Processing record 430|uray\n",
      "Processing record 431|ortona\n",
      "Processing record 432|brookings\n",
      "Processing record 433|taksimo\n",
      "Processing record 434|eureka\n",
      "Processing record 435|fortuna\n",
      "Processing record 436|roald\n",
      "City not found. Skipping...\n",
      "Processing record 437|lazaro cardenas\n",
      "Processing record 438|blagoyevo\n",
      "Processing record 439|wajid\n",
      "Processing record 440|finschhafen\n",
      "Processing record 441|watsa\n",
      "Processing record 442|mangrol\n",
      "Processing record 443|sao felix do xingu\n",
      "Processing record 444|sussex\n",
      "Processing record 445|half moon bay\n",
      "Processing record 446|sakaiminato\n",
      "Processing record 447|lapeer\n",
      "Processing record 448|jalu\n",
      "Processing record 449|puchenii mari\n",
      "Processing record 450|acapulco\n",
      "Processing record 451|salaga\n",
      "Processing record 452|santa isabel do rio negro\n",
      "Processing record 453|taveta\n",
      "Processing record 454|tilichiki\n",
      "Processing record 455|belyy yar\n",
      "Processing record 456|zhifang\n",
      "Processing record 457|tanah merah\n",
      "Processing record 458|adeje\n",
      "Processing record 459|alofi\n",
      "Processing record 460|necochea\n",
      "Processing record 461|champerico\n",
      "Processing record 462|sambava\n",
      "Processing record 463|overland park\n",
      "Processing record 464|atar\n",
      "City not found. Skipping...\n",
      "Processing record 465|abonnema\n",
      "Processing record 466|curup\n",
      "Processing record 467|chabahar\n",
      "Processing record 468|ilabaya\n",
      "Processing record 469|obo\n",
      "Processing record 470|yuci\n",
      "Processing record 471|krasnoarmeysk\n",
      "Processing record 472|yelizovo\n",
      "Processing record 473|ust-maya\n",
      "Processing record 474|trelew\n",
      "Processing record 475|bonfim\n",
      "Processing record 476|tamiahua\n",
      "City not found. Skipping...\n",
      "Processing record 477|santa cruz de la palma\n",
      "Processing record 478|camacha\n",
      "Processing record 479|eisiskes\n",
      "Processing record 480|birjand\n",
      "Processing record 481|porto walter\n",
      "Processing record 482|cervo\n",
      "Processing record 483|toora-khem\n",
      "Processing record 484|yaypan\n",
      "Processing record 485|balotra\n",
      "Processing record 486|clyde river\n",
      "Processing record 487|tiksi\n"
     ]
    },
    {
     "name": "stdout",
     "output_type": "stream",
     "text": [
      "Processing record 488|bethanien\n",
      "Processing record 489|santa rosa\n",
      "Processing record 490|gillette\n",
      "Processing record 491|sorong\n",
      "Processing record 492|fort nelson\n",
      "City not found. Skipping...\n",
      "Processing record 493|tommot\n",
      "Processing record 494|ucluelet\n",
      "Processing record 495|leua\n",
      "Processing record 496|elliot lake\n",
      "Processing record 497|rivers\n",
      "Processing record 498|bandarbeyla\n",
      "Processing record 499|avera\n",
      "Processing record 500|huesca\n",
      "Processing record 501|robertsport\n",
      "Processing record 502|barranca\n",
      "City not found. Skipping...\n",
      "Processing record 503|inhambane\n",
      "Processing record 504|urumqi\n",
      "Processing record 505|ust-barguzin\n",
      "Processing record 506|cayenne\n",
      "Processing record 507|esna\n",
      "Processing record 508|caravelas\n",
      "Processing record 509|vyritsa\n",
      "Processing record 510|biltine\n",
      "Processing record 511|mae sai\n",
      "Processing record 512|ketchikan\n",
      "Processing record 513|pisco\n",
      "Processing record 514|ilanskiy\n",
      "Processing record 515|dhanera\n",
      "Processing record 516|labuhan\n",
      "Processing record 517|owensboro\n",
      "City not found. Skipping...\n",
      "Processing record 518|lifford\n",
      "Processing record 519|poronaysk\n",
      "Processing record 520|fasa\n",
      "Processing record 521|bambous virieux\n",
      "Processing record 522|the valley\n",
      "Processing record 523|tabou\n",
      "Processing record 524|oussouye\n",
      "Processing record 525|boffa\n",
      "Processing record 526|udalguri\n",
      "Processing record 527|hovd\n",
      "Processing record 528|zhaoyuan\n",
      "Processing record 529|juntas\n",
      "Processing record 530|almaznyy\n",
      "Processing record 531|kapoeta\n",
      "Processing record 532|sistranda\n",
      "Processing record 533|marysville\n",
      "Processing record 534|quang ngai\n",
      "Processing record 535|taree\n",
      "City not found. Skipping...\n",
      "Processing record 536|luderitz\n",
      "Processing record 537|ixtapa\n",
      "Processing record 538|synya\n",
      "Processing record 539|natal\n",
      "Processing record 540|kant\n",
      "Processing record 541|ceuta\n",
      "Processing record 542|bhag\n",
      "Processing record 543|marienburg\n",
      "Processing record 544|benghazi\n",
      "Processing record 545|taonan\n",
      "Processing record 546|yorosso\n",
      "Processing record 547|porto novo\n",
      "Processing record 548|olot\n",
      "Processing record 549|baykit\n",
      "City not found. Skipping...\n",
      "Processing record 550|sisimiut\n",
      "Processing record 551|vila do maio\n",
      "Processing record 552|buala\n",
      "Processing record 553|myaundzha\n",
      "Processing record 554|tiznit\n",
      "City not found. Skipping...\n",
      "Processing record 555|aberdeen\n",
      "Processing record 556|praia da vitoria\n",
      "Processing record 557|fountain\n",
      "Processing record 558|palmetto\n",
      "Processing record 559|umm lajj\n",
      "Processing record 560|duobao\n",
      "Processing record 561|whyalla\n",
      "Processing record 562|okhotsk\n",
      "Processing record 563|sakakah\n",
      "Processing record 564|cap-aux-meules\n",
      "City not found. Skipping...\n",
      "Processing record 565|san estanislao\n",
      "City not found. Skipping...\n",
      "Processing record 566|southampton\n",
      "Processing record 567|dicabisagan\n",
      "Processing record 568|yinchuan\n",
      "Processing record 569|miri\n"
     ]
    }
   ],
   "source": [
    "\n",
    "#url = \"http://api.openweathermap.org/data/2.5/weather\"\n",
    "url = \"http://api.openweathermap.org/data/2.5/weather?units=Imperial&\"\n",
    "#Define empty lists to store values\n",
    "cloudiness = []\n",
    "country = []\n",
    "date = []\n",
    "max_temp = []\n",
    "humidity = []\n",
    "lat = []\n",
    "lng = []\n",
    "wind_speed = []\n",
    "city_name = []\n",
    "\n",
    "#Looping through cities to make api calls using city as query\n",
    "i = 1\n",
    "for city in cities:\n",
    "    city=city\n",
    "    query_url = url + \"appid=\" + weather_api_key + \"&q=\" + city\n",
    "    response = requests.get(query_url).json()\n",
    "    \n",
    "#Extracting data. Missing data is handled by try and except  \n",
    "    try:\n",
    "        \n",
    "        cloudiness.append(response[\"clouds\"][\"all\"])\n",
    "        country.append(response[\"sys\"][\"country\"])\n",
    "        date.append(response[\"dt\"])\n",
    "        max_temp.append(response[\"main\"]['temp_max'])\n",
    "        humidity.append(response[\"main\"]['humidity'])\n",
    "        lat.append(response[\"coord\"][\"lat\"])  \n",
    "        lng.append(response[\"coord\"][\"lon\"])\n",
    "        wind_speed.append(response[\"wind\"][\"speed\"])\n",
    "        city_name.append(response[\"name\"])\n",
    "        print(f\"Processing record {i}|{city}\")\n",
    "        i+=1\n",
    "    except (KeyError):\n",
    "        print(\"City not found. Skipping...\")\n"
   ]
  },
  {
   "cell_type": "code",
   "execution_count": 5,
   "metadata": {},
   "outputs": [
    {
     "data": {
      "text/html": [
       "<div>\n",
       "<style scoped>\n",
       "    .dataframe tbody tr th:only-of-type {\n",
       "        vertical-align: middle;\n",
       "    }\n",
       "\n",
       "    .dataframe tbody tr th {\n",
       "        vertical-align: top;\n",
       "    }\n",
       "\n",
       "    .dataframe thead th {\n",
       "        text-align: right;\n",
       "    }\n",
       "</style>\n",
       "<table border=\"1\" class=\"dataframe\">\n",
       "  <thead>\n",
       "    <tr style=\"text-align: right;\">\n",
       "      <th></th>\n",
       "      <th>City</th>\n",
       "      <th>Lat</th>\n",
       "      <th>Lng</th>\n",
       "      <th>Max Temp</th>\n",
       "      <th>Humidity</th>\n",
       "      <th>Cloudiness</th>\n",
       "      <th>Wind Speed</th>\n",
       "    </tr>\n",
       "  </thead>\n",
       "  <tbody>\n",
       "    <tr>\n",
       "      <th>0</th>\n",
       "      <td>Rikitea</td>\n",
       "      <td>-23.1203</td>\n",
       "      <td>-134.9692</td>\n",
       "      <td>78.80</td>\n",
       "      <td>77</td>\n",
       "      <td>88</td>\n",
       "      <td>20.67</td>\n",
       "    </tr>\n",
       "    <tr>\n",
       "      <th>1</th>\n",
       "      <td>Dalhousie</td>\n",
       "      <td>32.5333</td>\n",
       "      <td>75.9833</td>\n",
       "      <td>52.30</td>\n",
       "      <td>55</td>\n",
       "      <td>99</td>\n",
       "      <td>10.56</td>\n",
       "    </tr>\n",
       "    <tr>\n",
       "      <th>2</th>\n",
       "      <td>Punta Arenas</td>\n",
       "      <td>-53.1500</td>\n",
       "      <td>-70.9167</td>\n",
       "      <td>42.80</td>\n",
       "      <td>93</td>\n",
       "      <td>90</td>\n",
       "      <td>6.91</td>\n",
       "    </tr>\n",
       "    <tr>\n",
       "      <th>3</th>\n",
       "      <td>Mount Gambier</td>\n",
       "      <td>-37.8333</td>\n",
       "      <td>140.7667</td>\n",
       "      <td>57.20</td>\n",
       "      <td>51</td>\n",
       "      <td>100</td>\n",
       "      <td>10.36</td>\n",
       "    </tr>\n",
       "    <tr>\n",
       "      <th>4</th>\n",
       "      <td>Port Alfred</td>\n",
       "      <td>-33.5906</td>\n",
       "      <td>26.8910</td>\n",
       "      <td>60.78</td>\n",
       "      <td>82</td>\n",
       "      <td>35</td>\n",
       "      <td>14.58</td>\n",
       "    </tr>\n",
       "  </tbody>\n",
       "</table>\n",
       "</div>"
      ],
      "text/plain": [
       "            City      Lat       Lng  Max Temp  Humidity  Cloudiness  \\\n",
       "0        Rikitea -23.1203 -134.9692     78.80        77          88   \n",
       "1      Dalhousie  32.5333   75.9833     52.30        55          99   \n",
       "2   Punta Arenas -53.1500  -70.9167     42.80        93          90   \n",
       "3  Mount Gambier -37.8333  140.7667     57.20        51         100   \n",
       "4    Port Alfred -33.5906   26.8910     60.78        82          35   \n",
       "\n",
       "   Wind Speed  \n",
       "0       20.67  \n",
       "1       10.56  \n",
       "2        6.91  \n",
       "3       10.36  \n",
       "4       14.58  "
      ]
     },
     "execution_count": 5,
     "metadata": {},
     "output_type": "execute_result"
    }
   ],
   "source": [
    "#Creating city dataframe\n",
    "city_df = pd.DataFrame({\"City\":city_name, \n",
    "                        \"Lat\":lat,\n",
    "                        \"Lng\":lng,\n",
    "                        \"Max Temp\":max_temp,\n",
    "                        \"Humidity\":humidity,\n",
    "                        \"Cloudiness\":cloudiness, \n",
    "                        \"Wind Speed\":wind_speed})\n",
    "\n",
    "#Exporting data to csv\n",
    "\n",
    "#Displaying dataframe\n",
    "city_df.head()"
   ]
  },
  {
   "cell_type": "code",
   "execution_count": 6,
   "metadata": {},
   "outputs": [
    {
     "data": {
      "text/html": [
       "<div>\n",
       "<style scoped>\n",
       "    .dataframe tbody tr th:only-of-type {\n",
       "        vertical-align: middle;\n",
       "    }\n",
       "\n",
       "    .dataframe tbody tr th {\n",
       "        vertical-align: top;\n",
       "    }\n",
       "\n",
       "    .dataframe thead th {\n",
       "        text-align: right;\n",
       "    }\n",
       "</style>\n",
       "<table border=\"1\" class=\"dataframe\">\n",
       "  <thead>\n",
       "    <tr style=\"text-align: right;\">\n",
       "      <th></th>\n",
       "      <th>Lat</th>\n",
       "      <th>Lng</th>\n",
       "      <th>Max Temp</th>\n",
       "      <th>Humidity</th>\n",
       "      <th>Cloudiness</th>\n",
       "      <th>Wind Speed</th>\n",
       "    </tr>\n",
       "  </thead>\n",
       "  <tbody>\n",
       "    <tr>\n",
       "      <th>count</th>\n",
       "      <td>569.000000</td>\n",
       "      <td>569.000000</td>\n",
       "      <td>569.000000</td>\n",
       "      <td>569.000000</td>\n",
       "      <td>569.000000</td>\n",
       "      <td>569.000000</td>\n",
       "    </tr>\n",
       "    <tr>\n",
       "      <th>mean</th>\n",
       "      <td>20.565452</td>\n",
       "      <td>22.070967</td>\n",
       "      <td>61.538559</td>\n",
       "      <td>70.395431</td>\n",
       "      <td>52.940246</td>\n",
       "      <td>7.347856</td>\n",
       "    </tr>\n",
       "    <tr>\n",
       "      <th>std</th>\n",
       "      <td>32.974472</td>\n",
       "      <td>87.432505</td>\n",
       "      <td>18.849355</td>\n",
       "      <td>22.340831</td>\n",
       "      <td>37.922641</td>\n",
       "      <td>5.247700</td>\n",
       "    </tr>\n",
       "    <tr>\n",
       "      <th>min</th>\n",
       "      <td>-54.800000</td>\n",
       "      <td>-175.200000</td>\n",
       "      <td>5.130000</td>\n",
       "      <td>4.000000</td>\n",
       "      <td>0.000000</td>\n",
       "      <td>0.160000</td>\n",
       "    </tr>\n",
       "    <tr>\n",
       "      <th>25%</th>\n",
       "      <td>-4.085000</td>\n",
       "      <td>-52.333300</td>\n",
       "      <td>48.200000</td>\n",
       "      <td>58.000000</td>\n",
       "      <td>17.000000</td>\n",
       "      <td>3.440000</td>\n",
       "    </tr>\n",
       "    <tr>\n",
       "      <th>50%</th>\n",
       "      <td>25.291900</td>\n",
       "      <td>26.083300</td>\n",
       "      <td>64.400000</td>\n",
       "      <td>76.000000</td>\n",
       "      <td>56.000000</td>\n",
       "      <td>5.750000</td>\n",
       "    </tr>\n",
       "    <tr>\n",
       "      <th>75%</th>\n",
       "      <td>47.666600</td>\n",
       "      <td>93.450000</td>\n",
       "      <td>78.010000</td>\n",
       "      <td>87.000000</td>\n",
       "      <td>90.000000</td>\n",
       "      <td>10.360000</td>\n",
       "    </tr>\n",
       "    <tr>\n",
       "      <th>max</th>\n",
       "      <td>78.218600</td>\n",
       "      <td>178.416700</td>\n",
       "      <td>98.490000</td>\n",
       "      <td>100.000000</td>\n",
       "      <td>100.000000</td>\n",
       "      <td>28.770000</td>\n",
       "    </tr>\n",
       "  </tbody>\n",
       "</table>\n",
       "</div>"
      ],
      "text/plain": [
       "              Lat         Lng    Max Temp    Humidity  Cloudiness  Wind Speed\n",
       "count  569.000000  569.000000  569.000000  569.000000  569.000000  569.000000\n",
       "mean    20.565452   22.070967   61.538559   70.395431   52.940246    7.347856\n",
       "std     32.974472   87.432505   18.849355   22.340831   37.922641    5.247700\n",
       "min    -54.800000 -175.200000    5.130000    4.000000    0.000000    0.160000\n",
       "25%     -4.085000  -52.333300   48.200000   58.000000   17.000000    3.440000\n",
       "50%     25.291900   26.083300   64.400000   76.000000   56.000000    5.750000\n",
       "75%     47.666600   93.450000   78.010000   87.000000   90.000000   10.360000\n",
       "max     78.218600  178.416700   98.490000  100.000000  100.000000   28.770000"
      ]
     },
     "execution_count": 6,
     "metadata": {},
     "output_type": "execute_result"
    }
   ],
   "source": [
    "#Discribe data frame\n",
    "city_df.describe()"
   ]
  },
  {
   "cell_type": "code",
   "execution_count": 7,
   "metadata": {},
   "outputs": [
    {
     "data": {
      "text/html": [
       "<div>\n",
       "<style scoped>\n",
       "    .dataframe tbody tr th:only-of-type {\n",
       "        vertical-align: middle;\n",
       "    }\n",
       "\n",
       "    .dataframe tbody tr th {\n",
       "        vertical-align: top;\n",
       "    }\n",
       "\n",
       "    .dataframe thead th {\n",
       "        text-align: right;\n",
       "    }\n",
       "</style>\n",
       "<table border=\"1\" class=\"dataframe\">\n",
       "  <thead>\n",
       "    <tr style=\"text-align: right;\">\n",
       "      <th></th>\n",
       "      <th>City</th>\n",
       "      <th>Lat</th>\n",
       "      <th>Lng</th>\n",
       "      <th>Max Temp</th>\n",
       "      <th>Humidity</th>\n",
       "      <th>Cloudiness</th>\n",
       "      <th>Wind Speed</th>\n",
       "    </tr>\n",
       "  </thead>\n",
       "  <tbody>\n",
       "  </tbody>\n",
       "</table>\n",
       "</div>"
      ],
      "text/plain": [
       "Empty DataFrame\n",
       "Columns: [City, Lat, Lng, Max Temp, Humidity, Cloudiness, Wind Speed]\n",
       "Index: []"
      ]
     },
     "execution_count": 7,
     "metadata": {},
     "output_type": "execute_result"
    }
   ],
   "source": [
    "city_humidity = city_df.loc[city_df[\"Humidity\"] >100, [\n",
    "    \"City\",\"Lat\",\"Lng\",\"Max Temp\",\"Humidity\",\"Cloudiness\",\"Wind Speed\"]]\n",
    "city_humidity.head()"
   ]
  },
  {
   "cell_type": "code",
   "execution_count": 9,
   "metadata": {},
   "outputs": [
    {
     "data": {
      "image/png": "[encoded data removed]",
      "text/plain": [
       "<Figure size 432x288 with 1 Axes>"
      ]
     },
     "metadata": {
      "needs_background": "light"
     },
     "output_type": "display_data"
    }
   ],
   "source": [
    "city_humidity_df =city_df['Humidity']\n",
    "\n",
    "fig1, ax1 = plt.subplots()\n",
    "ax1.set_title('Humidity')\n",
    "ax1.set_ylabel('Humidity')\n",
    "ax1.boxplot(city_humidity_df)\n",
    "plt.show()"
   ]
  },
  {
   "cell_type": "code",
   "execution_count": 8,
   "metadata": {},
   "outputs": [
    {
     "name": "stdout",
     "output_type": "stream",
     "text": [
      "The lower quartile of Humidity is: 62.0\n",
      "The upper quartile of Humidity is: 88.0\n",
      "The interquartile range of Humidity is: 26.0\n",
      "The the median of Humidity is: 75.5 \n",
      "Values below 23.0 could be outliers.\n",
      "Values above 127.0 could be outliers.\n"
     ]
    }
   ],
   "source": [
    "#If the data is in a dataframe, we use pandas to give quartile calculations\n",
    "quartiles = city_humidity_df.quantile([.25,.5,.75])\n",
    "lowerq = quartiles[0.25]\n",
    "upperq = quartiles[0.75]\n",
    "iqr = upperq-lowerq\n",
    "\n",
    "print(f\"The lower quartile of Humidity is: {lowerq}\")\n",
    "print(f\"The upper quartile of Humidity is: {upperq}\")\n",
    "print(f\"The interquartile range of Humidity is: {iqr}\")\n",
    "print(f\"The the median of Humidity is: {quartiles[0.5]} \")\n",
    "\n",
    "lower_bound = lowerq - (1.5*iqr)\n",
    "upper_bound = upperq + (1.5*iqr)\n",
    "print(f\"Values below {lower_bound} could be outliers.\")\n",
    "print(f\"Values above {upper_bound} could be outliers.\")"
   ]
  },
  {
   "cell_type": "code",
   "execution_count": 9,
   "metadata": {},
   "outputs": [
    {
     "data": {
      "text/html": [
       "<div>\n",
       "<style scoped>\n",
       "    .dataframe tbody tr th:only-of-type {\n",
       "        vertical-align: middle;\n",
       "    }\n",
       "\n",
       "    .dataframe tbody tr th {\n",
       "        vertical-align: top;\n",
       "    }\n",
       "\n",
       "    .dataframe thead th {\n",
       "        text-align: right;\n",
       "    }\n",
       "</style>\n",
       "<table border=\"1\" class=\"dataframe\">\n",
       "  <thead>\n",
       "    <tr style=\"text-align: right;\">\n",
       "      <th></th>\n",
       "      <th>City</th>\n",
       "      <th>Lat</th>\n",
       "      <th>Lng</th>\n",
       "      <th>Max Temp</th>\n",
       "      <th>Humidity</th>\n",
       "      <th>Cloudiness</th>\n",
       "      <th>Wind Speed</th>\n",
       "    </tr>\n",
       "  </thead>\n",
       "  <tbody>\n",
       "    <tr>\n",
       "      <th>44</th>\n",
       "      <td>Renqiu</td>\n",
       "      <td>38.6989</td>\n",
       "      <td>116.0936</td>\n",
       "      <td>71.11</td>\n",
       "      <td>15</td>\n",
       "      <td>97</td>\n",
       "      <td>11.14</td>\n",
       "    </tr>\n",
       "    <tr>\n",
       "      <th>110</th>\n",
       "      <td>Kutum</td>\n",
       "      <td>14.2000</td>\n",
       "      <td>24.6667</td>\n",
       "      <td>74.84</td>\n",
       "      <td>16</td>\n",
       "      <td>100</td>\n",
       "      <td>5.91</td>\n",
       "    </tr>\n",
       "    <tr>\n",
       "      <th>155</th>\n",
       "      <td>Shīeli</td>\n",
       "      <td>44.1667</td>\n",
       "      <td>66.7500</td>\n",
       "      <td>84.25</td>\n",
       "      <td>12</td>\n",
       "      <td>8</td>\n",
       "      <td>8.41</td>\n",
       "    </tr>\n",
       "    <tr>\n",
       "      <th>177</th>\n",
       "      <td>Saint George</td>\n",
       "      <td>37.1041</td>\n",
       "      <td>-113.5841</td>\n",
       "      <td>69.80</td>\n",
       "      <td>21</td>\n",
       "      <td>1</td>\n",
       "      <td>9.22</td>\n",
       "    </tr>\n",
       "    <tr>\n",
       "      <th>198</th>\n",
       "      <td>Dawlatabad</td>\n",
       "      <td>36.4141</td>\n",
       "      <td>64.9053</td>\n",
       "      <td>86.11</td>\n",
       "      <td>13</td>\n",
       "      <td>0</td>\n",
       "      <td>1.14</td>\n",
       "    </tr>\n",
       "  </tbody>\n",
       "</table>\n",
       "</div>"
      ],
      "text/plain": [
       "             City      Lat       Lng  Max Temp  Humidity  Cloudiness  \\\n",
       "44         Renqiu  38.6989  116.0936     71.11        15          97   \n",
       "110         Kutum  14.2000   24.6667     74.84        16         100   \n",
       "155        Shīeli  44.1667   66.7500     84.25        12           8   \n",
       "177  Saint George  37.1041 -113.5841     69.80        21           1   \n",
       "198    Dawlatabad  36.4141   64.9053     86.11        13           0   \n",
       "\n",
       "     Wind Speed  \n",
       "44        11.14  \n",
       "110        5.91  \n",
       "155        8.41  \n",
       "177        9.22  \n",
       "198        1.14  "
      ]
     },
     "execution_count": 9,
     "metadata": {},
     "output_type": "execute_result"
    }
   ],
   "source": [
    "# Make a new DataFrame equal to the city data to drop all humidity outliers by index.\n",
    "city_humidity = city_df.loc[(city_df[\"Humidity\"] < lower_bound) | (city_df[\"Humidity\"] > upper_bound), [\n",
    "    \"City\",\"Lat\",\"Lng\",\"Max Temp\",\"Humidity\",\"Cloudiness\",\"Wind Speed\"]]\n",
    "city_humidity.head()"
   ]
  },
  {
   "cell_type": "code",
   "execution_count": 10,
   "metadata": {},
   "outputs": [
    {
     "data": {
      "text/plain": [
       "City          27\n",
       "Lat           27\n",
       "Lng           27\n",
       "Max Temp      27\n",
       "Humidity      27\n",
       "Cloudiness    27\n",
       "Wind Speed    27\n",
       "dtype: int64"
      ]
     },
     "execution_count": 10,
     "metadata": {},
     "output_type": "execute_result"
    }
   ],
   "source": [
    "city_humidity.count()\n"
   ]
  },
  {
   "cell_type": "code",
   "execution_count": 11,
   "metadata": {},
   "outputs": [
    {
     "data": {
      "image/png": "[encoded data removed]",
      "text/plain": [
       "<Figure size 432x288 with 1 Axes>"
      ]
     },
     "metadata": {
      "needs_background": "light"
     },
     "output_type": "display_data"
    }
   ],
   "source": [
    "plt.scatter(city_df['Lat'],city_df['Max Temp'],marker='o',edgecolors='black')\n",
    "plt.grid()\n",
    "plt.title('Latitude vs. Temperature Plot',size=10)\n",
    "plt.xlabel('Latitude',size=10)\n",
    "plt.ylabel('Temperature',size=10)\n",
    "plt.show()"
   ]
  },
  {
   "cell_type": "code",
   "execution_count": 13,
   "metadata": {},
   "outputs": [
    {
     "data": {
      "image/png": "[encoded data removed]",
      "text/plain": [
       "<Figure size 432x288 with 1 Axes>"
      ]
     },
     "metadata": {
      "needs_background": "light"
     },
     "output_type": "display_data"
    }
   ],
   "source": [
    "#Latitude vs. Humidity Plot\n",
    "plt.scatter(city_df['Lat'],city_df['Humidity'],marker='o',edgecolors='black')\n",
    "plt.grid()\n",
    "plt.title('Latitude vs. Humidity Plot',size=10)\n",
    "plt.xlabel('Latitude',size=10)\n",
    "plt.ylabel('Humidity',size=10)\n",
    "plt.show()"
   ]
  },
  {
   "cell_type": "code",
   "execution_count": 14,
   "metadata": {},
   "outputs": [
    {
     "data": {
      "image/png": "[encoded data removed]",
      "text/plain": [
       "<Figure size 432x288 with 1 Axes>"
      ]
     },
     "metadata": {
      "needs_background": "light"
     },
     "output_type": "display_data"
    }
   ],
   "source": [
    "# Latitude vs. Cloudiness Plot\n",
    "plt.scatter(city_df['Lat'],city_df['Cloudiness'],marker='o',edgecolors='black')\n",
    "plt.grid()\n",
    "plt.title('Latitude vs. Cloudiness Plot',size=10)\n",
    "plt.xlabel('Latitude',size=10)\n",
    "plt.ylabel('Cloudines',size=10)\n",
    "plt.show()"
   ]
  },
  {
   "cell_type": "code",
   "execution_count": 15,
   "metadata": {},
   "outputs": [
    {
     "data": {
      "image/png": "[encoded data removed]",
      "text/plain": [
       "<Figure size 432x288 with 1 Axes>"
      ]
     },
     "metadata": {
      "needs_background": "light"
     },
     "output_type": "display_data"
    }
   ],
   "source": [
    "#Latitude vs. Wind Speed Plot\n",
    "plt.scatter(city_df['Lat'],city_df['Wind Speed'],marker='o',edgecolors='black')\n",
    "plt.grid()\n",
    "plt.title('Latitude vs. Wind Speed',size=10)\n",
    "plt.xlabel('Latitude',size=10)\n",
    "plt.ylabel('Wind Speed',size=10)\n",
    "plt.show()"
   ]
  },
  {
   "cell_type": "code",
   "execution_count": 19,
   "metadata": {},
   "outputs": [],
   "source": [
    "#Creat new hemesfir\n",
    "north_city = city_df.loc[(city_df['Lat']>5)]\n",
    "south_city = city_df.loc[(city_df['Lat'] < 5)]"
   ]
  },
  {
   "cell_type": "code",
   "execution_count": 20,
   "metadata": {},
   "outputs": [],
   "source": [
    "\n",
    "def line_regr(x, y,yaxis):\n",
    "    \n",
    "    (slope, intercept, rvalue, pvalue, stderr) = linregress(x, y)\n",
    "    y_pred = intercept + slope*x\n",
    "    line_eq = \"y = \" + str(round(slope,2)) + \"x + \" + str(round(intercept,2))\n",
    "\n",
    "    # Plot\n",
    "    plt.scatter(x,y)\n",
    "    plt.plot(x,y_pred,\"r-\")\n",
    "    plt.xlabel('Latitude')\n",
    "    plt.ylabel(yaxis)\n",
    "    print(f\"r-squared: {rvalue}\")\n",
    "    plt.show()"
   ]
  },
  {
   "cell_type": "code",
   "execution_count": 24,
   "metadata": {},
   "outputs": [
    {
     "name": "stdout",
     "output_type": "stream",
     "text": [
      "r-squared: -0.9015043317204254\n"
     ]
    },
    {
     "data": {
      "image/png": "[encoded data removed]",
      "text/plain": [
       "<Figure size 432x288 with 1 Axes>"
      ]
     },
     "metadata": {
      "needs_background": "light"
     },
     "output_type": "display_data"
    },
    {
     "data": {
      "text/plain": [
       "<Figure size 432x288 with 0 Axes>"
      ]
     },
     "metadata": {},
     "output_type": "display_data"
    }
   ],
   "source": [
    "#Northern Hemisphere - Max Temp vs. Latitude Linear Regression\n",
    "x = north_city['Lat']\n",
    "y = north_city['Max Temp']\n",
    "line_regr(x,y,'Max Temp')\n",
    "plt.savefig(\"Northern Hemisphere - Max Temp vs. Latitude Linear Regression.png\")"
   ]
  },
  {
   "cell_type": "code",
   "execution_count": 25,
   "metadata": {},
   "outputs": [
    {
     "name": "stdout",
     "output_type": "stream",
     "text": [
      "r-squared: 0.6266880047997405\n"
     ]
    },
    {
     "data": {
      "image/png": "[encoded data removed]",
      "text/plain": [
       "<Figure size 432x288 with 1 Axes>"
      ]
     },
     "metadata": {
      "needs_background": "light"
     },
     "output_type": "display_data"
    },
    {
     "data": {
      "text/plain": [
       "<Figure size 432x288 with 0 Axes>"
      ]
     },
     "metadata": {},
     "output_type": "display_data"
    }
   ],
   "source": [
    "#Southern Hemisphere - Max Temp vs. Latitude Linear Regression\n",
    "x = south_city['Lat']\n",
    "y = south_city['Max Temp']\n",
    "line_regr(x,y,'Max Temp')\n",
    "plt.savefig(\"Southern Hemisphere - Max Temp vs. Latitude Linear Regression.png\")"
   ]
  },
  {
   "cell_type": "code",
   "execution_count": 26,
   "metadata": {},
   "outputs": [
    {
     "name": "stdout",
     "output_type": "stream",
     "text": [
      "r-squared: 0.0343036190848496\n"
     ]
    },
    {
     "data": {
      "image/png": "[encoded data removed]",
      "text/plain": [
       "<Figure size 432x288 with 1 Axes>"
      ]
     },
     "metadata": {
      "needs_background": "light"
     },
     "output_type": "display_data"
    },
    {
     "data": {
      "text/plain": [
       "<Figure size 432x288 with 0 Axes>"
      ]
     },
     "metadata": {},
     "output_type": "display_data"
    }
   ],
   "source": [
    "#Northern Hemisphere - Cloudiness (%) vs. Latitude Linear Regression\n",
    "x = north_city['Lat']\n",
    "y = north_city['Cloudiness']\n",
    "line_regr(x,y,'Cloudiness')\n",
    "plt.savefig(\"Northern Hemisphere - Cloudiness (%) vs. Latitude Linear Regression.png\")"
   ]
  },
  {
   "cell_type": "code",
   "execution_count": 27,
   "metadata": {},
   "outputs": [
    {
     "name": "stdout",
     "output_type": "stream",
     "text": [
      "r-squared: 0.36919048143098043\n"
     ]
    },
    {
     "data": {
      "image/png": "[encoded data removed]",
      "text/plain": [
       "<Figure size 432x288 with 1 Axes>"
      ]
     },
     "metadata": {
      "needs_background": "light"
     },
     "output_type": "display_data"
    },
    {
     "data": {
      "text/plain": [
       "<Figure size 432x288 with 0 Axes>"
      ]
     },
     "metadata": {},
     "output_type": "display_data"
    }
   ],
   "source": [
    "#Southern Hemisphere - Cloudiness (%) vs. Latitude Linear Regression\n",
    "x = south_city['Lat']\n",
    "y = south_city['Cloudiness']\n",
    "line_regr(x,y,'Cloudiness')\n",
    "plt.savefig(\"Southern Hemisphere - Cloudiness (%) vs. Latitude Linear Regression.png\")"
   ]
  },
  {
   "cell_type": "code",
   "execution_count": 28,
   "metadata": {},
   "outputs": [
    {
     "name": "stdout",
     "output_type": "stream",
     "text": [
      "r-squared: 0.0049066191560774445\n"
     ]
    },
    {
     "data": {
      "image/png": "[encoded data removed]",
      "text/plain": [
       "<Figure size 432x288 with 1 Axes>"
      ]
     },
     "metadata": {
      "needs_background": "light"
     },
     "output_type": "display_data"
    },
    {
     "data": {
      "text/plain": [
       "<Figure size 432x288 with 0 Axes>"
      ]
     },
     "metadata": {},
     "output_type": "display_data"
    }
   ],
   "source": [
    "#Northern Hemisphere - Wind Speed (mph) vs. Latitude Linear Regression\n",
    "x = north_city['Lat']\n",
    "y = north_city['Wind Speed']\n",
    "line_regr(x,y,'Wind Speed')\n",
    "plt.savefig(\"Northern Hemisphere - Wind Speed (mph) vs. Latitude Linear Regression.png\")"
   ]
  },
  {
   "cell_type": "code",
   "execution_count": 29,
   "metadata": {},
   "outputs": [
    {
     "name": "stdout",
     "output_type": "stream",
     "text": [
      "r-squared: -0.32922942309989195\n"
     ]
    },
    {
     "data": {
      "image/png": "[encoded data removed]",
      "text/plain": [
       "<Figure size 432x288 with 1 Axes>"
      ]
     },
     "metadata": {
      "needs_background": "light"
     },
     "output_type": "display_data"
    },
    {
     "data": {
      "text/plain": [
       "<Figure size 432x288 with 0 Axes>"
      ]
     },
     "metadata": {},
     "output_type": "display_data"
    }
   ],
   "source": [
    "#Southern Hemisphere - Wind Speed (mph) vs. Latitude Linear Regression\n",
    "x = south_city['Lat']\n",
    "y = south_city['Wind Speed']\n",
    "line_regr(x,y,'Wind Speed')\n",
    "plt.savefig(\"Southern Hemisphere - Wind Speed (mph) vs. Latitude Linear Regression.png\")"
   ]
  },
  {
   "cell_type": "code",
   "execution_count": null,
   "metadata": {},
   "outputs": [],
   "source": [
    "#Observable trends\n",
    "#1) In southern Hemisphere the higher the latitude of the city’s it has higher temperature rate.\n",
    "#2) The Northern Hemisphere has an oposite efect the highr the latitud of the city they have lower temperature rate.\n",
    "#4)Must of the north hemisphere city has a low wind speed it dosnt depende of the latitud , this means it dosnt have a corelatio"
   ]
  }
 ],
 "metadata": {
  "kernelspec": {
   "display_name": "Python [conda env:root] *",
   "language": "python",
   "name": "conda-root-py"
  },
  "language_info": {
   "codemirror_mode": {
    "name": "ipython",
    "version": 3
   },
   "file_extension": ".py",
   "mimetype": "text/x-python",
   "name": "python",
   "nbconvert_exporter": "python",
   "pygments_lexer": "ipython3",
   "version": "3.8.5"
  }
 },
 "nbformat": 4,
 "nbformat_minor": 4
}
